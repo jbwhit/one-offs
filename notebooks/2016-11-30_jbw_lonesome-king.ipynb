{
 "cells": [
  {
   "cell_type": "markdown",
   "metadata": {},
   "source": [
    "# Lonesome King\n",
    "\n",
    "> The childless King of Solitaria lives alone in his castle. Overly lonely, the king one day offers one lucky subject the chance to be prince or princess for a day. The loyal subjects leap at the opportunity, having heard tales of the opulent castle and decadent meals that will be lavished upon them. The subjects assemble on the village green, hoping to be chosen.\n",
    "\n",
    "> The winner is chosen through the following game. In the first round, every subject simultaneously chooses a random other subject on the green. (It’s possible, of course, that some subjects will be chosen by more than one other subject.) Everybody chosen is eliminated. (Not killed or anything, just sent back to their hovels.) In each successive round, the subjects who are still in contention simultaneously choose a random remaining subject, and again everybody chosen is eliminated. If there is eventually exactly one subject remaining at the end of a round, he or she wins and heads straight to the castle for fêting. However, it’s also possible that everybody could be eliminated in the last round, in which case nobody wins and the king remains alone. If the kingdom has a population of 56,000 (not including the king), is it more likely that a prince or princess will be crowned or that nobody will win?\n",
    "\n",
    "> Extra credit: How does the answer change for a kingdom of arbitrary size?\n",
    "\n",
    "\n",
    "http://fivethirtyeight.com/features/the-puzzle-of-the-lonesome-king/"
   ]
  },
  {
   "cell_type": "code",
   "execution_count": 1,
   "metadata": {
    "collapsed": true
   },
   "outputs": [],
   "source": [
    "%matplotlib inline\n",
    "%config InlineBackend.figure_format='retina'\n",
    "# %load_ext autoreload\n",
    "# the \"1\" means: always reload modules marked with \"%aimport\"\n",
    "# %autoreload 1\n",
    "\n",
    "from __future__ import absolute_import, division, print_function\n",
    "import matplotlib as mpl\n",
    "from matplotlib import pyplot as plt\n",
    "from matplotlib.pyplot import GridSpec\n",
    "import seaborn as sns\n",
    "import mpld3\n",
    "import numpy as np\n",
    "import pandas as pd\n",
    "import os, sys\n",
    "import warnings"
   ]
  },
  {
   "cell_type": "code",
   "execution_count": null,
   "metadata": {
    "collapsed": true
   },
   "outputs": [],
   "source": [
    "num_games = 10000\n",
    "population = 50\n",
    "remaining_population = population"
   ]
  },
  {
   "cell_type": "code",
   "execution_count": 35,
   "metadata": {
    "collapsed": false
   },
   "outputs": [],
   "source": [
    "def play_round(remaining_population):\n",
    "    \"\"\"Assuming that people randomly choose from everyone (including themselves).\"\"\"\n",
    "    return len(set(range(remaining_population))\n",
    "                 - set(np.random.randint(remaining_population,\n",
    "                                         size=remaining_population)))\n",
    "\n",
    "def play_game(initial_population):\n",
    "    number_remaining = initial_population\n",
    "    while number_remaining > 1:\n",
    "        number_remaining = play_round(number_remaining)\n",
    "    # Exactly one person -- then someone's crowned!\n",
    "    if number_remaining == 1:\n",
    "        return True\n",
    "    # Otherwise, nope!\n",
    "    else:\n",
    "        return False\n",
    "\n",
    "def tournament(num_games, population):\n",
    "    return np.sum([play_game(population) for _ in range(num_games)]) / num_games\n"
   ]
  },
  {
   "cell_type": "code",
   "execution_count": 39,
   "metadata": {
    "collapsed": false
   },
   "outputs": [
    {
     "name": "stdout",
     "output_type": "stream",
     "text": [
      "50 0.674\n",
      "100 0.6944\n",
      "560 0.6953\n",
      "5600 0.6913\n",
      "56000 0.6804\n"
     ]
    }
   ],
   "source": [
    "for population in [50, 100, 560, 5600, 56000]:\n",
    "    print(population, tournament(num_games, population))"
   ]
  },
  {
   "cell_type": "code",
   "execution_count": null,
   "metadata": {
    "collapsed": true
   },
   "outputs": [],
   "source": []
  }
 ],
 "metadata": {
  "anaconda-cloud": {},
  "kernelspec": {
   "display_name": "Python [conda env:py3]",
   "language": "python",
   "name": "conda-env-py3-py"
  },
  "language_info": {
   "codemirror_mode": {
    "name": "ipython",
    "version": 3
   },
   "file_extension": ".py",
   "mimetype": "text/x-python",
   "name": "python",
   "nbconvert_exporter": "python",
   "pygments_lexer": "ipython3",
   "version": "3.5.2"
  }
 },
 "nbformat": 4,
 "nbformat_minor": 0
}
