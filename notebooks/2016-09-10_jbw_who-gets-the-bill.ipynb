{
 "cells": [
  {
   "cell_type": "markdown",
   "metadata": {},
   "source": [
    "You and four statistician colleagues find a $100 bill on the floor of your department’s faculty lounge. None of you have change, so you agree to play a game of chance to divide the money probabilistically. The five of you sit around a table. The game is played in turns. Each turn, one of three things can happen, each with an equal probability: The bill can move one position to the left, one position to the right, or the game ends and the person with the bill in front of him or her wins the game. You have tenure and seniority, so the bill starts in front of you. What are the chances you win the money?\n",
    "\n",
    "Extra credit: What if there were N statisticians in the department?\n",
    "\n",
    "Source: http://fivethirtyeight.com/features/who-keeps-the-money-you-found-on-the-floor/"
   ]
  },
  {
   "cell_type": "code",
   "execution_count": 1,
   "metadata": {
    "collapsed": true
   },
   "outputs": [],
   "source": [
    "%matplotlib inline\n",
    "%config InlineBackend.figure_format='retina'\n",
    "# %load_ext autoreload\n",
    "# the \"1\" means: always reload modules marked with \"%aimport\"\n",
    "# %autoreload 1\n",
    "\n",
    "from __future__ import absolute_import, division, print_function\n",
    "import matplotlib as mpl\n",
    "from matplotlib import pyplot as plt\n",
    "from matplotlib.pyplot import GridSpec\n",
    "import seaborn as sns\n",
    "import mpld3\n",
    "import numpy as np\n",
    "import pandas as pd\n",
    "import os, sys\n",
    "import warnings"
   ]
  },
  {
   "cell_type": "code",
   "execution_count": 2,
   "metadata": {
    "collapsed": true
   },
   "outputs": [],
   "source": [
    "from numpy.random import choice"
   ]
  },
  {
   "cell_type": "code",
   "execution_count": 20,
   "metadata": {
    "collapsed": true
   },
   "outputs": [],
   "source": [
    "def single_throw(name):\n",
    "    result = choice(['left', 'right', 'wins'])\n",
    "    if result == 'wins':\n",
    "        profs[name]['wins'] += 1.0\n",
    "        return\n",
    "    else:\n",
    "        single_throw(profs[name][result])"
   ]
  },
  {
   "cell_type": "code",
   "execution_count": 26,
   "metadata": {
    "collapsed": true
   },
   "outputs": [],
   "source": [
    "n_throws = 100\n",
    "names = 'abcde'\n",
    "def tournament(n_throws, name='a'):\n",
    "    for _ in range(n_throws):\n",
    "        single_throw(name)\n",
    "    for name in names:\n",
    "        print(name, profs[name]['wins'] / n_throws)"
   ]
  },
  {
   "cell_type": "code",
   "execution_count": 28,
   "metadata": {
    "collapsed": false
   },
   "outputs": [
    {
     "name": "stdout",
     "output_type": "stream",
     "text": [
      "a 0.45364\n",
      "b 0.18151\n",
      "c 0.09012\n",
      "d 0.09237\n",
      "e 0.18236\n"
     ]
    }
   ],
   "source": [
    "profs = {}\n",
    "for name in names:\n",
    "    profs[name] = {}\n",
    "    profs[name]['wins'] = 0.0\n",
    "\n",
    "profs['a']['left'] = 'e'\n",
    "profs['a']['right'] = 'b'\n",
    "profs['b']['left'] = 'a'\n",
    "profs['b']['right'] = 'c'\n",
    "profs['c']['left'] = 'b'\n",
    "profs['c']['right'] = 'd'\n",
    "profs['d']['left'] = 'c'\n",
    "profs['d']['right'] = 'e'\n",
    "profs['e']['left'] = 'd'\n",
    "profs['e']['right'] = 'a'\n",
    "\n",
    "tournament(100000)"
   ]
  },
  {
   "cell_type": "markdown",
   "metadata": {},
   "source": [
    "Chance that the person who starts is ~45%"
   ]
  },
  {
   "cell_type": "code",
   "execution_count": null,
   "metadata": {
    "collapsed": true
   },
   "outputs": [],
   "source": []
  }
 ],
 "metadata": {
  "anaconda-cloud": {},
  "kernelspec": {
   "display_name": "Python [default]",
   "language": "python",
   "name": "python3"
  },
  "language_info": {
   "codemirror_mode": {
    "name": "ipython",
    "version": 3
   },
   "file_extension": ".py",
   "mimetype": "text/x-python",
   "name": "python",
   "nbconvert_exporter": "python",
   "pygments_lexer": "ipython3",
   "version": "3.5.2"
  }
 },
 "nbformat": 4,
 "nbformat_minor": 0
}
