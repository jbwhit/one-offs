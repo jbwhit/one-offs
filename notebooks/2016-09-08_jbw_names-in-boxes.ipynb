{
 "cells": [
  {
   "cell_type": "markdown",
   "metadata": {
    "collapsed": true
   },
   "source": [
    "# Names in Boxes\n",
    "\n",
    "From: https://math.dartmouth.edu/~pw/solutions.pdf \n",
    "\n",
    "The names of 100 prisoners are placed in 100 wooden boxes, one name to a box, and the boxes are\n",
    "lined up on a table in a room. One by one, the prisoners are led into the room; each may look\n",
    "in at most 50 boxes, but must leave the room exactly as he found it and is permitted no further\n",
    "communication with the others.\n",
    "The prisoners have a chance to plot their strategy in advance, and they are going to need it,\n",
    "because unless every single prisoner finds his own name all will subsequently be executed.\n",
    "Find a strategy for them which which has probability of success exceeding 30%.\n",
    "Comment: If each prisoner examines a random set of 50 boxes, their probability of survival\n",
    "is an unenviable 1/2100 \u0018 0.0000000000000000000000000000008. They could do worse—if they all\n",
    "look in the same 50 boxes, their chances drop to zero. 30% seems ridiculously out of reach—but\n",
    "yes, you heard the problem correctly."
   ]
  },
  {
   "cell_type": "code",
   "execution_count": 2,
   "metadata": {
    "collapsed": true
   },
   "outputs": [],
   "source": [
    "%matplotlib inline\n",
    "%config InlineBackend.figure_format='retina'\n",
    "# %load_ext autoreload\n",
    "# the \"1\" means: always reload modules marked with \"%aimport\"\n",
    "# %autoreload 1\n",
    "\n",
    "from __future__ import absolute_import, division, print_function\n",
    "import matplotlib as mpl\n",
    "from matplotlib import pyplot as plt\n",
    "from matplotlib.pyplot import GridSpec\n",
    "import seaborn as sns\n",
    "import mpld3\n",
    "import numpy as np\n",
    "import pandas as pd\n",
    "import os, sys\n",
    "import warnings\n",
    "from itertools import combinations, islice, takewhile\n",
    "from numpy.random import randint, shuffle"
   ]
  },
  {
   "cell_type": "code",
   "execution_count": 129,
   "metadata": {
    "collapsed": false
   },
   "outputs": [],
   "source": [
    "def guess(golden_name, limiting_guesses, verbose=False):\n",
    "    count = 0\n",
    "    new_box_number = random_guess[golden_name]\n",
    "    if verbose:\n",
    "        print(\"Looking for:\", golden_name)\n",
    "    while (count <= limiting_guesses) and (boxes[new_box_number] != golden_name):\n",
    "        count += 1\n",
    "        new_box_number = random_guess[boxes[new_box_number]]\n",
    "        if verbose:\n",
    "            print(\"    guessed\", golden_name, \"in box\", new_box_number, \"found\", boxes[new_box_number])\n",
    "    if count > limiting_guesses:\n",
    "        print(\"Failed!\")\n",
    "    elif boxes[new_box_number] == golden_name:\n",
    "        if verbose:\n",
    "            print(\"    Found it!\", golden_name, \"in box\", new_box_number)\n",
    "        return float(count)\n",
    "    else:\n",
    "        raise"
   ]
  },
  {
   "cell_type": "markdown",
   "metadata": {},
   "source": [
    "## Setup"
   ]
  },
  {
   "cell_type": "code",
   "execution_count": 128,
   "metadata": {
    "collapsed": true
   },
   "outputs": [],
   "source": [
    "n_boxes = 10\n",
    "n_prisoners = n_boxes\n",
    "names = [''.join(x) for x in islice(combinations('abcdefghijklmnopqrstuvwxyz', 2), n_prisoners)]\n",
    "positions = list(range(n_boxes))\n",
    "shuffle(positions)\n",
    "boxes = {box:name for box, name in zip(positions, names)}\n",
    "guess_positions = list(range(n_boxes))\n",
    "shuffle(guess_positions)\n",
    "random_guess = {name:box for box, name in zip(guess_positions, names)}"
   ]
  },
  {
   "cell_type": "code",
   "execution_count": 134,
   "metadata": {
    "collapsed": false,
    "scrolled": false
   },
   "outputs": [
    {
     "name": "stdout",
     "output_type": "stream",
     "text": [
      "Looking for: ab\n",
      "    guessed ab in box 0 found aj\n",
      "    guessed ab in box 7 found ac\n",
      "    guessed ab in box 2 found ag\n",
      "    guessed ab in box 6 found ad\n",
      "    guessed ab in box 1 found ak\n",
      "    guessed ab in box 9 found ab\n",
      "    Found it! ab in box 9\n",
      "Looking for: ac\n",
      "    guessed ac in box 6 found ad\n",
      "    guessed ac in box 1 found ak\n",
      "    guessed ac in box 9 found ab\n",
      "    guessed ac in box 4 found ah\n",
      "    guessed ac in box 0 found aj\n",
      "    guessed ac in box 7 found ac\n",
      "    Found it! ac in box 7\n",
      "Looking for: ad\n",
      "    guessed ad in box 9 found ab\n",
      "    guessed ad in box 4 found ah\n",
      "    guessed ad in box 0 found aj\n",
      "    guessed ad in box 7 found ac\n",
      "    guessed ad in box 2 found ag\n",
      "    guessed ad in box 6 found ad\n",
      "    Found it! ad in box 6\n",
      "Looking for: ae\n",
      "    guessed ae in box 3 found ae\n",
      "    Found it! ae in box 3\n",
      "Looking for: af\n",
      "    Found it! af in box 5\n",
      "Looking for: ag\n",
      "    guessed ag in box 1 found ak\n",
      "    guessed ag in box 9 found ab\n",
      "    guessed ag in box 4 found ah\n",
      "    guessed ag in box 0 found aj\n",
      "    guessed ag in box 7 found ac\n",
      "    guessed ag in box 2 found ag\n",
      "    Found it! ag in box 2\n",
      "Looking for: ah\n",
      "    guessed ah in box 7 found ac\n",
      "    guessed ah in box 2 found ag\n",
      "    guessed ah in box 6 found ad\n",
      "    guessed ah in box 1 found ak\n",
      "    guessed ah in box 9 found ab\n",
      "    guessed ah in box 4 found ah\n",
      "    Found it! ah in box 4\n",
      "Looking for: ai\n",
      "    guessed ai in box 8 found ai\n",
      "    Found it! ai in box 8\n",
      "Looking for: aj\n",
      "    guessed aj in box 2 found ag\n",
      "    guessed aj in box 6 found ad\n",
      "    guessed aj in box 1 found ak\n",
      "    guessed aj in box 9 found ab\n",
      "    guessed aj in box 4 found ah\n",
      "    guessed aj in box 0 found aj\n",
      "    Found it! aj in box 0\n",
      "Looking for: ak\n",
      "    guessed ak in box 4 found ah\n",
      "    guessed ak in box 0 found aj\n",
      "    guessed ak in box 7 found ac\n",
      "    guessed ak in box 2 found ag\n",
      "    guessed ak in box 6 found ad\n",
      "    guessed ak in box 1 found ak\n",
      "    Found it! ak in box 1\n"
     ]
    }
   ],
   "source": [
    "counts = []\n",
    "for name in names:\n",
    "    counts.append(guess(name, n_boxes, verbose=True))"
   ]
  },
  {
   "cell_type": "code",
   "execution_count": 131,
   "metadata": {
    "collapsed": false
   },
   "outputs": [
    {
     "data": {
      "text/plain": [
       "(4.4000000000000004, 6.0, 10)"
      ]
     },
     "execution_count": 131,
     "metadata": {},
     "output_type": "execute_result"
    }
   ],
   "source": [
    "np.average(counts), np.max(counts), len(counts)"
   ]
  },
  {
   "cell_type": "code",
   "execution_count": 132,
   "metadata": {
    "collapsed": false
   },
   "outputs": [
    {
     "data": {
      "text/plain": [
       "(array([ 1.,  2.,  0.,  0.,  0.,  0.,  7.,  0.,  0.]),\n",
       " array([0, 1, 2, 3, 4, 5, 6, 7, 8, 9]),\n",
       " <a list of 9 Patch objects>)"
      ]
     },
     "execution_count": 132,
     "metadata": {},
     "output_type": "execute_result"
    },
    {
     "data": {
      "image/png": "[encoded data removed]",
      "text/plain": [
       "<matplotlib.figure.Figure at 0x115089c18>"
      ]
     },
     "metadata": {
      "image/png": {
       "height": 359,
       "width": 506
      }
     },
     "output_type": "display_data"
    }
   ],
   "source": [
    "plt.hist(counts, bins=np.arange(0, n_boxes, 1))"
   ]
  },
  {
   "cell_type": "code",
   "execution_count": null,
   "metadata": {
    "collapsed": true
   },
   "outputs": [],
   "source": []
  },
  {
   "cell_type": "code",
   "execution_count": 135,
   "metadata": {
    "collapsed": true
   },
   "outputs": [],
   "source": [
    "n_boxes = 100\n",
    "n_prisoners = n_boxes\n",
    "names = [''.join(x) for x in islice(combinations('abcdefghijklmnopqrstuvwxyz', 2), n_prisoners)]\n",
    "positions = list(range(n_boxes))\n",
    "shuffle(positions)\n",
    "boxes = {box:name for box, name in zip(positions, names)}\n",
    "guess_positions = list(range(n_boxes))\n",
    "shuffle(guess_positions)\n",
    "random_guess = {name:box for box, name in zip(guess_positions, names)}"
   ]
  },
  {
   "cell_type": "code",
   "execution_count": 136,
   "metadata": {
    "collapsed": false,
    "scrolled": false
   },
   "outputs": [],
   "source": [
    "counts = []\n",
    "for name in names:\n",
    "    counts.append(guess(name, n_boxes/2, verbose=False))"
   ]
  },
  {
   "cell_type": "code",
   "execution_count": 137,
   "metadata": {
    "collapsed": false
   },
   "outputs": [
    {
     "data": {
      "text/plain": [
       "(35.539999999999999, 50.0, 100)"
      ]
     },
     "execution_count": 137,
     "metadata": {},
     "output_type": "execute_result"
    }
   ],
   "source": [
    "np.average(counts), np.max(counts), len(counts)"
   ]
  },
  {
   "cell_type": "code",
   "execution_count": 138,
   "metadata": {
    "collapsed": false
   },
   "outputs": [
    {
     "data": {
      "text/plain": [
       "(array([  0.,   2.,   0.,   4.,   0.,  12.,   0.,   0.,   0.,   0.,   0.,\n",
       "          0.,   0.,   0.,   0.,   0.,   0.,   0.,   0.,   0.,   0.,   0.,\n",
       "          0.,   0.,   0.,   0.,   0.,   0.,   0.,   0.,  31.,   0.,   0.,\n",
       "          0.,   0.,   0.,   0.,   0.,   0.,   0.,   0.,   0.,   0.,   0.,\n",
       "          0.,   0.,   0.,   0.,   0.,   0.,  51.,   0.,   0.,   0.,   0.,\n",
       "          0.,   0.,   0.,   0.,   0.,   0.,   0.,   0.,   0.,   0.,   0.,\n",
       "          0.,   0.,   0.,   0.,   0.,   0.,   0.,   0.,   0.,   0.,   0.,\n",
       "          0.,   0.,   0.,   0.,   0.,   0.,   0.,   0.,   0.,   0.,   0.,\n",
       "          0.,   0.,   0.,   0.,   0.,   0.,   0.,   0.,   0.,   0.,   0.]),\n",
       " array([ 0,  1,  2,  3,  4,  5,  6,  7,  8,  9, 10, 11, 12, 13, 14, 15, 16,\n",
       "        17, 18, 19, 20, 21, 22, 23, 24, 25, 26, 27, 28, 29, 30, 31, 32, 33,\n",
       "        34, 35, 36, 37, 38, 39, 40, 41, 42, 43, 44, 45, 46, 47, 48, 49, 50,\n",
       "        51, 52, 53, 54, 55, 56, 57, 58, 59, 60, 61, 62, 63, 64, 65, 66, 67,\n",
       "        68, 69, 70, 71, 72, 73, 74, 75, 76, 77, 78, 79, 80, 81, 82, 83, 84,\n",
       "        85, 86, 87, 88, 89, 90, 91, 92, 93, 94, 95, 96, 97, 98, 99]),\n",
       " <a list of 99 Patch objects>)"
      ]
     },
     "execution_count": 138,
     "metadata": {},
     "output_type": "execute_result"
    },
    {
     "data": {
      "image/png": "[encoded data removed]",
      "text/plain": [
       "<matplotlib.figure.Figure at 0x11527dc18>"
      ]
     },
     "metadata": {
      "image/png": {
       "height": 359,
       "width": 521
      }
     },
     "output_type": "display_data"
    }
   ],
   "source": [
    "plt.hist(counts, bins=np.arange(0, n_boxes, 1))"
   ]
  },
  {
   "cell_type": "code",
   "execution_count": null,
   "metadata": {
    "collapsed": true
   },
   "outputs": [],
   "source": []
  }
 ],
 "metadata": {
  "anaconda-cloud": {},
  "kernelspec": {
   "display_name": "Python [default]",
   "language": "python",
   "name": "python3"
  },
  "language_info": {
   "codemirror_mode": {
    "name": "ipython",
    "version": 3
   },
   "file_extension": ".py",
   "mimetype": "text/x-python",
   "name": "python",
   "nbconvert_exporter": "python",
   "pygments_lexer": "ipython3",
   "version": "3.5.2"
  }
 },
 "nbformat": 4,
 "nbformat_minor": 0
}
